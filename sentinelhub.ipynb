{
 "cells": [
  {
   "cell_type": "markdown",
   "metadata": {},
   "source": [
    "# SentinelHub Playground\n",
    "\n",
    "example taken from https://github.com/sentinel-hub/sentinelhub-py/blob/master/examples/ogc_request.ipynb"
   ]
  },
  {
   "cell_type": "markdown",
   "metadata": {},
   "source": [
    "## Setup"
   ]
  },
  {
   "cell_type": "code",
   "execution_count": null,
   "metadata": {},
   "outputs": [],
   "source": [
    "INSTANCE_ID = '0e7e4724-e954-4e7c-87ba-708bc8926c79'  # create account and sample layer via https://sentinel-hub.com/"
   ]
  },
  {
   "cell_type": "code",
   "execution_count": null,
   "metadata": {},
   "outputs": [],
   "source": [
    "%reload_ext autoreload\n",
    "%autoreload 2\n",
    "%matplotlib inline"
   ]
  },
  {
   "cell_type": "code",
   "execution_count": null,
   "metadata": {},
   "outputs": [],
   "source": [
    "import logging\n",
    "logging.basicConfig(level=logging.DEBUG)"
   ]
  },
  {
   "cell_type": "code",
   "execution_count": null,
   "metadata": {},
   "outputs": [],
   "source": [
    "import datetime\n",
    "import requests\n",
    "import numpy as np\n",
    "import pandas as pd\n",
    "import matplotlib.pyplot as plt"
   ]
  },
  {
   "cell_type": "code",
   "execution_count": null,
   "metadata": {},
   "outputs": [],
   "source": [
    "from sentinelhub import WmsRequest, WcsRequest, FisRequest, MimeType, CRS, BBox, CustomUrlParam\n",
    "from sentinelhub.time_utils import iso_to_datetime\n",
    "list(CustomUrlParam)"
   ]
  },
  {
   "cell_type": "code",
   "execution_count": null,
   "metadata": {},
   "outputs": [],
   "source": [
    "def plot_image(image, factor=1):\n",
    "    \"\"\"\n",
    "    Utility function for plotting RGB images.\n",
    "    \"\"\"\n",
    "    fig = plt.subplots(nrows=1, ncols=1, figsize=(15, 7))\n",
    "    \n",
    "    if np.issubdtype(image.dtype, np.floating):\n",
    "        plt.imshow(np.minimum(image * factor, 1))\n",
    "    else:\n",
    "        plt.imshow(image)"
   ]
  },
  {
   "cell_type": "code",
   "execution_count": null,
   "metadata": {},
   "outputs": [],
   "source": [
    "betsiboka_coords_wgs84 = [46.16, -16.15, 46.51, -15.58]"
   ]
  },
  {
   "cell_type": "code",
   "execution_count": null,
   "metadata": {},
   "outputs": [],
   "source": [
    "betsiboka_bbox = BBox(bbox=betsiboka_coords_wgs84, crs=CRS.WGS84)"
   ]
  },
  {
   "cell_type": "markdown",
   "metadata": {},
   "source": [
    "### WMS (Python)"
   ]
  },
  {
   "cell_type": "code",
   "execution_count": null,
   "metadata": {},
   "outputs": [],
   "source": [
    "wms_true_color_request = WmsRequest(layer='TRUE_COLOR',\n",
    "                                    bbox=betsiboka_bbox,\n",
    "                                    time=('2017-12-01', '2017-12-31'), # or <explicit date> or 'latest'\n",
    "                                    width=512, height=856, \n",
    "                                    maxcc=0.3, # optional\n",
    "                                    instance_id=INSTANCE_ID)"
   ]
  },
  {
   "cell_type": "code",
   "execution_count": null,
   "metadata": {},
   "outputs": [],
   "source": [
    "wms_true_color_img = wms_true_color_request.get_data()"
   ]
  },
  {
   "cell_type": "code",
   "execution_count": null,
   "metadata": {},
   "outputs": [],
   "source": [
    "print('There are %d Sentinel-2 images available for December 2017 with cloud coverage less ' \\\n",
    "      'than %1.0f%%.' % (len(wms_true_color_img), wms_true_color_request.maxcc * 100.0))"
   ]
  },
  {
   "cell_type": "code",
   "execution_count": null,
   "metadata": {},
   "outputs": [],
   "source": [
    "plot_image(wms_true_color_img[-1])"
   ]
  },
  {
   "cell_type": "code",
   "execution_count": null,
   "metadata": {},
   "outputs": [],
   "source": [
    "print('These %d images were taken on the following dates:' % len(wms_true_color_img))\n",
    "for index, date in enumerate(wms_true_color_request.get_dates()):\n",
    "    print(' - image %d was taken on %s' % (index, date))"
   ]
  },
  {
   "cell_type": "code",
   "execution_count": null,
   "metadata": {},
   "outputs": [],
   "source": [
    "wms_bands_request = WmsRequest(layer='BANDS',\n",
    "                               bbox=betsiboka_bbox, \n",
    "                               time='2017-12-15',\n",
    "                               width=512, height=856,\n",
    "                               image_format=MimeType.TIFF_d32f,\n",
    "                               instance_id=INSTANCE_ID)\n",
    "wms_bands_img = wms_bands_request.get_data()"
   ]
  },
  {
   "cell_type": "code",
   "execution_count": null,
   "metadata": {},
   "outputs": [],
   "source": [
    "wms_bands_img[-1][:, :, 12].shape"
   ]
  },
  {
   "cell_type": "code",
   "execution_count": null,
   "metadata": {},
   "outputs": [],
   "source": [
    "plot_image(wms_bands_img[-1][:, :, 12])"
   ]
  },
  {
   "cell_type": "code",
   "execution_count": null,
   "metadata": {},
   "outputs": [],
   "source": [
    "plot_image(wms_bands_img[-1][:, :, [3, 2, 1]], 2.5)"
   ]
  },
  {
   "cell_type": "code",
   "execution_count": null,
   "metadata": {},
   "outputs": [],
   "source": [
    "my_evalscript = '''\n",
    "return [B01,B02,B03,B04,B05,B06,B07,B08,B8A,B09,B10,B11,B12];\n",
    "'''\n",
    "\n",
    "evalscript_wms_request = WmsRequest(layer='TRUE_COLOR', # not important which one, just must exist\n",
    "                                    bbox=betsiboka_bbox, \n",
    "                                    time='2017-12-20', \n",
    "                                    width=512,\n",
    "                                    image_format=MimeType.TIFF_d32f,\n",
    "                                    instance_id=INSTANCE_ID,\n",
    "                                    custom_url_params={CustomUrlParam.EVALSCRIPT: my_evalscript})\n",
    "\n",
    "evalscript_wms_data = evalscript_wms_request.get_data()\n",
    "plot_image(evalscript_wms_data[-1][:, :, 12])"
   ]
  },
  {
   "cell_type": "markdown",
   "metadata": {},
   "source": [
    "### WCS (Python)"
   ]
  },
  {
   "cell_type": "code",
   "execution_count": null,
   "metadata": {},
   "outputs": [],
   "source": [
    "wcs_true_color_request = WcsRequest(layer='TRUE_COLOR',\n",
    "                                    bbox=betsiboka_bbox, \n",
    "                                    time='2017-12-15', \n",
    "                                    resx='60m', resy='60m',\n",
    "                                    instance_id=INSTANCE_ID)"
   ]
  },
  {
   "cell_type": "code",
   "execution_count": null,
   "metadata": {},
   "outputs": [],
   "source": [
    "wcs_true_color_img = wcs_true_color_request.get_data()"
   ]
  },
  {
   "cell_type": "code",
   "execution_count": null,
   "metadata": {},
   "outputs": [],
   "source": [
    "print('Single element in the list is of type = {} and has shape {}'.format(type(wcs_true_color_img[-1]),\n",
    "                                                                           wcs_true_color_img[-1].shape))"
   ]
  },
  {
   "cell_type": "code",
   "execution_count": null,
   "metadata": {},
   "outputs": [],
   "source": [
    "plot_image(wcs_true_color_img[-1])"
   ]
  },
  {
   "cell_type": "markdown",
   "metadata": {},
   "source": [
    "### WMS (Http)"
   ]
  },
  {
   "cell_type": "code",
   "execution_count": null,
   "metadata": {},
   "outputs": [],
   "source": [
    "wfs_params = {'SERVICE':'wfs','REQUEST':'GetFeature','TYPENAMES':'S2.TILE','BBOX':'-16.15,46.16,-15.58,46.51','OUTPUTFORMAT':'application/json','SRSNAME':'EPSG:4326','TIME':'2017-12-01/2017-12-31','MAXCC':'30.0','MAXFEATURES':'100','FEATURE_OFFSET':'0'}\n",
    "wfs = requests.get(\"https://services.sentinel-hub.com/ogc/wfs/0e7e4724-e954-4e7c-87ba-708bc8926c79?\", params=wfs_params)\n",
    "wfs.url\n"
   ]
  },
  {
   "cell_type": "code",
   "execution_count": null,
   "metadata": {},
   "outputs": [],
   "source": [
    "wfs.json()"
   ]
  },
  {
   "cell_type": "code",
   "execution_count": null,
   "metadata": {},
   "outputs": [],
   "source": [
    "wms_params = {'SERVICE':'wms','MAXCC':'30.0','BBOX':'-16.15,46.16,-15.58,46.51','FORMAT':'image/png','CRS':'EPSG:4326','TIME':'2017-12-15T07:12:03/2017-12-15T07:12:03','WIDTH':'512','HEIGHT':'856','LAYERS':'TRUE_COLOR','REQUEST':'GetMap','VERSION':'1.3.0'}\n",
    "wms = requests.get(\"https://services.sentinel-hub.com/ogc/wms/0e7e4724-e954-4e7c-87ba-708bc8926c79?\", params=wms_params)\n",
    "wms.url\n"
   ]
  },
  {
   "cell_type": "code",
   "execution_count": null,
   "metadata": {},
   "outputs": [],
   "source": [
    "wms.raw"
   ]
  },
  {
   "cell_type": "markdown",
   "metadata": {},
   "source": [
    "### FIS (Python)"
   ]
  },
  {
   "cell_type": "code",
   "execution_count": null,
   "metadata": {},
   "outputs": [],
   "source": [
    "def fis_data_to_dataframe(fis_data):\n",
    "    \"\"\" Creates a DataFrame from list of FIS responses\n",
    "    \"\"\"\n",
    "    COLUMNS = ['channel', 'date', 'min', 'max', 'mean', 'stDev']\n",
    "    data = []\n",
    "    \n",
    "    for fis_response in fis_data:\n",
    "        for channel, channel_stats in fis_response.items():\n",
    "            for stat in channel_stats:\n",
    "                row = [int(channel[1:]), iso_to_datetime(stat['date'])]\n",
    "                \n",
    "                for column in COLUMNS[2:]:\n",
    "                    row.append(stat['basicStats'][column])\n",
    "                \n",
    "                data.append(row)\n",
    "    \n",
    "    return pd.DataFrame(data, columns=COLUMNS).sort_values(['channel', 'date'])"
   ]
  },
  {
   "cell_type": "code",
   "execution_count": null,
   "metadata": {},
   "outputs": [],
   "source": [
    "fis_request = FisRequest(layer='NDVI_INDEX',\n",
    "                         geometry_list=[betsiboka_bbox],\n",
    "                         time=('2017-12-01', '2017-12-31'),\n",
    "                         resolution='60m',\n",
    "                         instance_id=INSTANCE_ID)"
   ]
  },
  {
   "cell_type": "code",
   "execution_count": null,
   "metadata": {},
   "outputs": [],
   "source": [
    "fis_data = fis_request.get_data()\n",
    "fis_data[0]['C0'][0]"
   ]
  },
  {
   "cell_type": "code",
   "execution_count": null,
   "metadata": {},
   "outputs": [],
   "source": [
    "df = fis_data_to_dataframe(fis_data)\n",
    "df"
   ]
  },
  {
   "cell_type": "code",
   "execution_count": null,
   "metadata": {},
   "outputs": [],
   "source": [
    "fis_histogram_request = FisRequest(layer='NDVI_INDEX',\n",
    "                         geometry_list=[betsiboka_bbox],\n",
    "                         time=('2017-12-01', '2017-12-31'),\n",
    "                         resolution='60m',\n",
    "                         bins=10,\n",
    "                         instance_id=INSTANCE_ID)"
   ]
  },
  {
   "cell_type": "code",
   "execution_count": null,
   "metadata": {},
   "outputs": [],
   "source": [
    "fis_histogram_data = fis_histogram_request.get_data()\n",
    "fis_histogram_data[0]['C0'][0]"
   ]
  },
  {
   "cell_type": "markdown",
   "metadata": {},
   "source": [
    "### Temporal"
   ]
  },
  {
   "cell_type": "code",
   "execution_count": null,
   "metadata": {},
   "outputs": [],
   "source": [
    "parcel_coords_wgs84 = [16.5575304072,48.2110832663,16.5585174602,48.211975525]\n",
    "parcel_bbox = BBox(bbox=parcel_coords_wgs84, crs=CRS.WGS84)"
   ]
  },
  {
   "cell_type": "code",
   "execution_count": null,
   "metadata": {},
   "outputs": [],
   "source": [
    "wms_true_color_parcel_request = WmsRequest(layer='TRUE_COLOR',\n",
    "                                    bbox=parcel_bbox,\n",
    "                                    time='latest',\n",
    "                                    width=512, height=856, \n",
    "                                    maxcc=0.3, # optional\n",
    "                                    instance_id=INSTANCE_ID)"
   ]
  },
  {
   "cell_type": "code",
   "execution_count": null,
   "metadata": {},
   "outputs": [],
   "source": [
    "wms_true_color_parcel_img = wms_true_color_parcel_request.get_data()"
   ]
  },
  {
   "cell_type": "code",
   "execution_count": null,
   "metadata": {},
   "outputs": [],
   "source": [
    "plot_image(wms_true_color_parcel_img[-1])"
   ]
  },
  {
   "cell_type": "code",
   "execution_count": null,
   "metadata": {},
   "outputs": [],
   "source": [
    "fis_parcel_request = FisRequest(layer='NDVI_INDEX',\n",
    "                         geometry_list=[parcel_bbox],\n",
    "                         time=('2018-05-01', '2018-05-31'),\n",
    "                         resolution='50m',\n",
    "                         bins=5,\n",
    "                         instance_id=INSTANCE_ID)"
   ]
  },
  {
   "cell_type": "code",
   "execution_count": null,
   "metadata": {},
   "outputs": [],
   "source": [
    "fis_parcel_data = fis_parcel_request.get_data()\n",
    "fis_parcel_data[0]['C0'][0]"
   ]
  },
  {
   "cell_type": "code",
   "execution_count": null,
   "metadata": {},
   "outputs": [],
   "source": [
    "df_parcel = fis_data_to_dataframe(fis_parcel_data)\n",
    "df_parcel"
   ]
  },
  {
   "cell_type": "code",
   "execution_count": null,
   "metadata": {},
   "outputs": [],
   "source": [
    "wcs_true_color_parcel_request = WcsRequest(layer='NVDI_INDEX',\n",
    "                                    bbox=parcel_bbox, \n",
    "                                    time='2018-05-01', \n",
    "                                    resx='50m', resy='50m',\n",
    "                                    instance_id=INSTANCE_ID)"
   ]
  },
  {
   "cell_type": "code",
   "execution_count": null,
   "metadata": {},
   "outputs": [],
   "source": [
    "wcs_true_color_parcel_data = wcs_true_color_parcel_request.get_data()"
   ]
  },
  {
   "cell_type": "code",
   "execution_count": null,
   "metadata": {},
   "outputs": [],
   "source": []
  }
 ],
 "metadata": {
  "kernelspec": {
   "display_name": "Python 3",
   "language": "python",
   "name": "python3"
  },
  "language_info": {
   "codemirror_mode": {
    "name": "ipython",
    "version": 3
   },
   "file_extension": ".py",
   "mimetype": "text/x-python",
   "name": "python",
   "nbconvert_exporter": "python",
   "pygments_lexer": "ipython3",
   "version": "3.6.7"
  }
 },
 "nbformat": 4,
 "nbformat_minor": 2
}
